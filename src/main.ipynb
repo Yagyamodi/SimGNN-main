{
 "cells": [
  {
   "cell_type": "code",
   "execution_count": 5,
   "metadata": {},
   "outputs": [
    {
     "name": "stderr",
     "output_type": "stream",
     "text": [
      "usage: ipykernel_launcher.py [-h] [--training-graphs [TRAINING_GRAPHS]]\n",
      "                             [--testing-graphs [TESTING_GRAPHS]]\n",
      "                             [--epochs EPOCHS] [--filters-1 FILTERS_1]\n",
      "                             [--filters-2 FILTERS_2] [--filters-3 FILTERS_3]\n",
      "                             [--learning-rate LEARNING_RATE]\n",
      "                             [--weight-decay WEIGHT_DECAY]\n",
      "                             [--saveafter SAVEAFTER]\n",
      "ipykernel_launcher.py: error: unrecognized arguments: -f C:\\Users\\91876\\AppData\\Roaming\\jupyter\\runtime\\kernel-ef735863-85b7-4d73-8a4f-8abcec0cb3e0.json\n"
     ]
    },
    {
     "ename": "SystemExit",
     "evalue": "2",
     "output_type": "error",
     "traceback": [
      "An exception has occurred, use %tb to see the full traceback.\n",
      "\u001b[1;31mSystemExit\u001b[0m\u001b[1;31m:\u001b[0m 2\n"
     ]
    },
    {
     "name": "stderr",
     "output_type": "stream",
     "text": [
      "C:\\ProgramData\\Anaconda3\\lib\\site-packages\\IPython\\core\\interactiveshell.py:3445: UserWarning: To exit: use 'exit', 'quit', or Ctrl-D.\n",
      "  warn(\"To exit: use 'exit', 'quit', or Ctrl-D.\", stacklevel=1)\n"
     ]
    }
   ],
   "source": [
    "from tensorflow import keras\n",
    "from keras import backend as K\n",
    "from keras import applications\n",
    "from keras import datasets\n",
    "from keras import wrappers\n",
    "from keras_gcn import GraphConv\n",
    "import numpy as np\n",
    "from tqdm import tqdm, trange\n",
    "from myParser import parameter_parser\n",
    "from utilities import data2, convert_to_keras, process, find_loss\n",
    "from simgnn import simgnn\n",
    "from custom_layers import Attention, NeuralTensorLayer\n",
    "from keras.backend import manual_variable_initialization \n",
    "manual_variable_initialization(True)\n",
    "\n",
    "parser = parameter_parser()\n",
    "\n",
    "def train(model, x):\n",
    "    batches = x.create_batches()\n",
    "    global_labels = x.getlabels()\n",
    "    \"\"\"\n",
    "    Training the Network\n",
    "    Take every graph pair and train it as a batch.\n",
    "    \"\"\"\n",
    "    t_x = x\n",
    "    last=0\n",
    "    for epoch in range(0,parser.epochs):\n",
    "        p=0\n",
    "        for index, batch in tqdm(enumerate(batches), total=len(batches), desc=\"Batches\"):\n",
    "            for graph_pair in batch:\n",
    "                data = process(graph_pair)\n",
    "                data = convert_to_keras(data, global_labels)\n",
    "                x, y, a, b = [ np.array([ data[\"features_1\"] ]), np.array([ data[\"features_2\"] ]), np.array([ data[\"edge_index_1\"] ]), np.array([ data[\"edge_index_2\"] ]) ]\n",
    "                p = model.train_on_batch([x, a, y, b], data[\"target\"])\n",
    "        if epoch%(parser.saveafter) == 0:\n",
    "                print(\"Train Error:\")\n",
    "                print(p)\n",
    "                model.save(\"train\")\n",
    "                model.save_weights(\"xweights\")\n",
    "\n",
    "def test(model, x):\n",
    "    global_labels = x.getlabels()\n",
    "    test = x.gettest()\n",
    "    scores = []\n",
    "    g_truth = []\n",
    "    for graph_pair in tqdm(test):\n",
    "        data = process(graph_pair)\n",
    "        data = convert_to_keras(data, global_labels)\n",
    "        x = np.array([ data[\"features_1\"] ])\n",
    "        y = np.array([ data[\"features_2\"] ])\n",
    "        a = np.array([ data[\"edge_index_1\"] ])\n",
    "        b = np.array([ data[\"edge_index_2\"] ])\n",
    "        g_truth.append(data[\"target\"])\n",
    "        y=model.predict([x, a, y, b])\n",
    "        scores.append(find_loss(y, data[\"target\"]))\n",
    "\n",
    "    norm_ged_mean = np.mean(g_truth)\n",
    "    model_error = np.mean(scores)\n",
    "    print(\"\\nModel test error: \" +str(round(model_error, 5))+\".\")\n",
    "    return model_error\n",
    "\n",
    "def main():\n",
    "    model = simgnn(parser);\n",
    "    opt = keras.optimizers.Adadelta(learning_rate=parser.learning_rate, rho=parser.weight_decay)\n",
    "    #opt = keras.optimizers.Adam(learning_rate=parser.learning_rate)\n",
    "    model.compile(\n",
    "                optimizer=opt,\n",
    "                loss='mse',\n",
    "                metrics=[keras.metrics.MeanSquaredError()],\n",
    "            )\n",
    "    model.summary()\n",
    "    model.save(\"train\")\n",
    "    \"\"\"\"\n",
    "    x : Data loading\n",
    "    train used to train\n",
    "    test over the test data\n",
    "    \"\"\"\n",
    "    x = data2()\n",
    "    train(model, x)\n",
    "    test(model, x)\n",
    "\n",
    "\n",
    "if __name__ == \"__main__\":\n",
    "    main()\n",
    "\n"
   ]
  },
  {
   "cell_type": "code",
   "execution_count": null,
   "metadata": {},
   "outputs": [],
   "source": []
  }
 ],
 "metadata": {
  "kernelspec": {
   "display_name": "Python 3",
   "language": "python",
   "name": "python3"
  },
  "language_info": {
   "codemirror_mode": {
    "name": "ipython",
    "version": 3
   },
   "file_extension": ".py",
   "mimetype": "text/x-python",
   "name": "python",
   "nbconvert_exporter": "python",
   "pygments_lexer": "ipython3",
   "version": "3.8.8"
  }
 },
 "nbformat": 4,
 "nbformat_minor": 2
}
